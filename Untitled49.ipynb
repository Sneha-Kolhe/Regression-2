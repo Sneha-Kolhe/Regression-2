{
 "cells": [
  {
   "cell_type": "markdown",
   "id": "3a51b5fe-35c2-46a0-8726-691516807572",
   "metadata": {},
   "source": [
    "## Q1. Explain the concept of R-squared in linear regression models. How is it calculated, and what does it\n",
    "represent?"
   ]
  },
  {
   "cell_type": "code",
   "execution_count": null,
   "id": "9a549e51-5159-49b8-a6c2-38414ddf2f9f",
   "metadata": {},
   "outputs": [],
   "source": [
    "R-squared (coefficient of determination) is a statistical measure used to assess the goodness of fit of a linear regression model. It represents the proportion of the variance in the dependent variable that is explained by the independent variables in the model. In other words, R-squared quantifies how well the regression model fits the observed data.\n",
    "\n",
    "Here's a more detailed explanation of R-squared in linear regression models:\n",
    "\n",
    "Calculation:\n",
    "\n",
    "R-squared is calculated as the ratio of the explained sum of squares (ESS) to the total sum of squares (TSS). Mathematically, it is expressed as:\n",
    "�\n",
    "2\n",
    "=\n",
    "�\n",
    "�\n",
    "�\n",
    "�\n",
    "�\n",
    "�\n",
    "R \n",
    "2\n",
    " = \n",
    "TSS\n",
    "ESS\n",
    "​\n",
    " \n",
    "ESS represents the sum of squared differences between the predicted values (obtained from the regression model) and the mean of the dependent variable.\n",
    "TSS represents the sum of squared differences between the actual values of the dependent variable and its mean.\n",
    "Alternatively, R-squared can be calculated as the square of the Pearson correlation coefficient (\n",
    "�\n",
    "r) between the observed and predicted values of the dependent variable.\n",
    "Interpretation:\n",
    "\n",
    "R-squared values range from 0 to 1. A value of 0 indicates that the independent variables do not explain any of the variability in the dependent variable, while a value of 1 indicates that the independent variables explain all of the variability.\n",
    "Higher R-squared values indicate a better fit of the regression model to the data, as they suggest that a larger proportion of the variance in the dependent variable is accounted for by the independent variables.\n",
    "However, it's important to interpret R-squared in the context of the specific dataset and research question. A high R-squared does not necessarily imply that the model is \"good\" or that it accurately predicts the dependent variable in all situations.\n",
    "Limitations:\n",
    "\n",
    "R-squared can be influenced by the number of independent variables in the model and the scale of the dependent variable. Adding more independent variables to the model will generally increase the R-squared value, even if those variables are not meaningful predictors.\n",
    "A high R-squared does not imply causation or the absence of omitted variable bias. It only indicates the strength of the relationship between the independent and dependent variables included in the model.\n",
    "R-squared may overestimate the goodness of fit if the model is overfitted (i.e., too complex) or if it includes irrelevant independent variables."
   ]
  },
  {
   "cell_type": "markdown",
   "id": "85b2378c-1154-492a-a455-4e26c7a066d3",
   "metadata": {},
   "source": [
    "## Q2. Define adjusted R-squared and explain how it differs from the regular R-squared."
   ]
  },
  {
   "cell_type": "code",
   "execution_count": null,
   "id": "03e31709-2aaf-4b68-9546-20ff6a2bad1e",
   "metadata": {},
   "outputs": [],
   "source": []
  }
 ],
 "metadata": {
  "kernelspec": {
   "display_name": "Python 3 (ipykernel)",
   "language": "python",
   "name": "python3"
  },
  "language_info": {
   "codemirror_mode": {
    "name": "ipython",
    "version": 3
   },
   "file_extension": ".py",
   "mimetype": "text/x-python",
   "name": "python",
   "nbconvert_exporter": "python",
   "pygments_lexer": "ipython3",
   "version": "3.10.8"
  }
 },
 "nbformat": 4,
 "nbformat_minor": 5
}
